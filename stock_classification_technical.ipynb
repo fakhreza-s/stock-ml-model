{
 "cells": [
  {
   "cell_type": "code",
   "execution_count": 260,
   "id": "b30e4ada-d6a2-4f40-a4cb-3afa24c883e9",
   "metadata": {},
   "outputs": [],
   "source": [
    "import pandas as pd\n",
    "import yfinance as yf"
   ]
  },
  {
   "cell_type": "markdown",
   "id": "7e8ebe34-876d-4e5e-b6ae-22a6f107c05d",
   "metadata": {},
   "source": [
    "Input ticker code and target.\n",
    "For target, 'up' means the price increase/decrease for the same day as the technical indicator while 'next_up' does for the next day."
   ]
  },
  {
   "cell_type": "code",
   "execution_count": 261,
   "id": "f40eefbe-0d06-4fd3-8000-856a7793da2e",
   "metadata": {},
   "outputs": [],
   "source": [
    "# Input ticker code\n",
    "ticker = 'ZYRX.JK'\n",
    "\n",
    "# Select 'up' or 'next_up' as target\n",
    "target_col = 'next_up'"
   ]
  },
  {
   "cell_type": "markdown",
   "id": "ae40f2fc-c9b8-4547-a013-0f92a5abd2df",
   "metadata": {
    "jp-MarkdownHeadingCollapsed": true,
    "tags": []
   },
   "source": [
    "# Data Acquisition (yfinance)"
   ]
  },
  {
   "cell_type": "code",
   "execution_count": 262,
   "id": "40820c6b-1c1f-40dc-a4f5-590bd717cf71",
   "metadata": {},
   "outputs": [
    {
     "name": "stdout",
     "output_type": "stream",
     "text": [
      "yfinance.Ticker object <ZYRX.JK>\n"
     ]
    },
    {
     "data": {
      "text/html": [
       "<div>\n",
       "<style scoped>\n",
       "    .dataframe tbody tr th:only-of-type {\n",
       "        vertical-align: middle;\n",
       "    }\n",
       "\n",
       "    .dataframe tbody tr th {\n",
       "        vertical-align: top;\n",
       "    }\n",
       "\n",
       "    .dataframe thead th {\n",
       "        text-align: right;\n",
       "    }\n",
       "</style>\n",
       "<table border=\"1\" class=\"dataframe\">\n",
       "  <thead>\n",
       "    <tr style=\"text-align: right;\">\n",
       "      <th></th>\n",
       "      <th>Open</th>\n",
       "      <th>High</th>\n",
       "      <th>Low</th>\n",
       "      <th>Close</th>\n",
       "      <th>Volume</th>\n",
       "      <th>Dividends</th>\n",
       "      <th>Stock Splits</th>\n",
       "    </tr>\n",
       "    <tr>\n",
       "      <th>Date</th>\n",
       "      <th></th>\n",
       "      <th></th>\n",
       "      <th></th>\n",
       "      <th></th>\n",
       "      <th></th>\n",
       "      <th></th>\n",
       "      <th></th>\n",
       "    </tr>\n",
       "  </thead>\n",
       "  <tbody>\n",
       "    <tr>\n",
       "      <th>2021-03-30 00:00:00+07:00</th>\n",
       "      <td>306.788940</td>\n",
       "      <td>306.788940</td>\n",
       "      <td>306.788940</td>\n",
       "      <td>306.788940</td>\n",
       "      <td>1596900</td>\n",
       "      <td>0.0</td>\n",
       "      <td>0.0</td>\n",
       "    </tr>\n",
       "    <tr>\n",
       "      <th>2021-03-31 00:00:00+07:00</th>\n",
       "      <td>383.486176</td>\n",
       "      <td>383.486176</td>\n",
       "      <td>383.486176</td>\n",
       "      <td>383.486176</td>\n",
       "      <td>14900</td>\n",
       "      <td>0.0</td>\n",
       "      <td>0.0</td>\n",
       "    </tr>\n",
       "    <tr>\n",
       "      <th>2021-04-01 00:00:00+07:00</th>\n",
       "      <td>477.882782</td>\n",
       "      <td>477.882782</td>\n",
       "      <td>440.517462</td>\n",
       "      <td>477.882782</td>\n",
       "      <td>226436800</td>\n",
       "      <td>0.0</td>\n",
       "      <td>0.0</td>\n",
       "    </tr>\n",
       "    <tr>\n",
       "      <th>2021-04-05 00:00:00+07:00</th>\n",
       "      <td>496.565428</td>\n",
       "      <td>550.646811</td>\n",
       "      <td>452.317023</td>\n",
       "      <td>489.682343</td>\n",
       "      <td>167673500</td>\n",
       "      <td>0.0</td>\n",
       "      <td>0.0</td>\n",
       "    </tr>\n",
       "    <tr>\n",
       "      <th>2021-04-06 00:00:00+07:00</th>\n",
       "      <td>489.682339</td>\n",
       "      <td>565.396275</td>\n",
       "      <td>464.116594</td>\n",
       "      <td>535.897339</td>\n",
       "      <td>109912200</td>\n",
       "      <td>0.0</td>\n",
       "      <td>0.0</td>\n",
       "    </tr>\n",
       "  </tbody>\n",
       "</table>\n",
       "</div>"
      ],
      "text/plain": [
       "                                 Open        High         Low       Close  \\\n",
       "Date                                                                        \n",
       "2021-03-30 00:00:00+07:00  306.788940  306.788940  306.788940  306.788940   \n",
       "2021-03-31 00:00:00+07:00  383.486176  383.486176  383.486176  383.486176   \n",
       "2021-04-01 00:00:00+07:00  477.882782  477.882782  440.517462  477.882782   \n",
       "2021-04-05 00:00:00+07:00  496.565428  550.646811  452.317023  489.682343   \n",
       "2021-04-06 00:00:00+07:00  489.682339  565.396275  464.116594  535.897339   \n",
       "\n",
       "                              Volume  Dividends  Stock Splits  \n",
       "Date                                                           \n",
       "2021-03-30 00:00:00+07:00    1596900        0.0           0.0  \n",
       "2021-03-31 00:00:00+07:00      14900        0.0           0.0  \n",
       "2021-04-01 00:00:00+07:00  226436800        0.0           0.0  \n",
       "2021-04-05 00:00:00+07:00  167673500        0.0           0.0  \n",
       "2021-04-06 00:00:00+07:00  109912200        0.0           0.0  "
      ]
     },
     "execution_count": 262,
     "metadata": {},
     "output_type": "execute_result"
    }
   ],
   "source": [
    "obj = yf.Ticker(ticker)\n",
    "print(obj)\n",
    "df = obj.history(period='5y')\n",
    "df.head()"
   ]
  },
  {
   "cell_type": "markdown",
   "id": "5f805855-ca3f-46da-b20b-530f75d2db9f",
   "metadata": {
    "jp-MarkdownHeadingCollapsed": true,
    "tags": []
   },
   "source": [
    "# Feature Calculation (Technical Indicators)"
   ]
  },
  {
   "cell_type": "code",
   "execution_count": 263,
   "id": "1bb825e2-449c-4ea9-9c0d-2775114be982",
   "metadata": {},
   "outputs": [
    {
     "data": {
      "text/html": [
       "<div>\n",
       "<style scoped>\n",
       "    .dataframe tbody tr th:only-of-type {\n",
       "        vertical-align: middle;\n",
       "    }\n",
       "\n",
       "    .dataframe tbody tr th {\n",
       "        vertical-align: top;\n",
       "    }\n",
       "\n",
       "    .dataframe thead th {\n",
       "        text-align: right;\n",
       "    }\n",
       "</style>\n",
       "<table border=\"1\" class=\"dataframe\">\n",
       "  <thead>\n",
       "    <tr style=\"text-align: right;\">\n",
       "      <th></th>\n",
       "      <th>sma_9</th>\n",
       "      <th>MACD_12_26</th>\n",
       "      <th>MACD_sign_12_26</th>\n",
       "      <th>MACD_diff_12_26</th>\n",
       "      <th>rsi</th>\n",
       "    </tr>\n",
       "    <tr>\n",
       "      <th>Date</th>\n",
       "      <th></th>\n",
       "      <th></th>\n",
       "      <th></th>\n",
       "      <th></th>\n",
       "      <th></th>\n",
       "    </tr>\n",
       "  </thead>\n",
       "  <tbody>\n",
       "    <tr>\n",
       "      <th>2021-05-21 00:00:00+07:00</th>\n",
       "      <td>0.032036</td>\n",
       "      <td>0.032898</td>\n",
       "      <td>0.144619</td>\n",
       "      <td>-0.134295</td>\n",
       "      <td>-0.006607</td>\n",
       "    </tr>\n",
       "    <tr>\n",
       "      <th>2021-05-24 00:00:00+07:00</th>\n",
       "      <td>0.014026</td>\n",
       "      <td>-0.046486</td>\n",
       "      <td>0.087082</td>\n",
       "      <td>-0.310772</td>\n",
       "      <td>0.062615</td>\n",
       "    </tr>\n",
       "    <tr>\n",
       "      <th>2021-05-25 00:00:00+07:00</th>\n",
       "      <td>0.014512</td>\n",
       "      <td>-0.049592</td>\n",
       "      <td>0.050988</td>\n",
       "      <td>-0.363489</td>\n",
       "      <td>0.000000</td>\n",
       "    </tr>\n",
       "    <tr>\n",
       "      <th>2021-05-27 00:00:00+07:00</th>\n",
       "      <td>0.004470</td>\n",
       "      <td>-0.023882</td>\n",
       "      <td>0.033109</td>\n",
       "      <td>-0.317556</td>\n",
       "      <td>-0.023038</td>\n",
       "    </tr>\n",
       "    <tr>\n",
       "      <th>2021-05-28 00:00:00+07:00</th>\n",
       "      <td>0.000000</td>\n",
       "      <td>-0.253591</td>\n",
       "      <td>-0.031582</td>\n",
       "      <td>-1.985467</td>\n",
       "      <td>0.197302</td>\n",
       "    </tr>\n",
       "    <tr>\n",
       "      <th>...</th>\n",
       "      <td>...</td>\n",
       "      <td>...</td>\n",
       "      <td>...</td>\n",
       "      <td>...</td>\n",
       "      <td>...</td>\n",
       "    </tr>\n",
       "    <tr>\n",
       "      <th>2023-05-08 00:00:00+07:00</th>\n",
       "      <td>0.006571</td>\n",
       "      <td>-0.092655</td>\n",
       "      <td>-0.041063</td>\n",
       "      <td>0.322861</td>\n",
       "      <td>-0.058813</td>\n",
       "    </tr>\n",
       "    <tr>\n",
       "      <th>2023-05-09 00:00:00+07:00</th>\n",
       "      <td>0.005341</td>\n",
       "      <td>-0.091402</td>\n",
       "      <td>-0.049406</td>\n",
       "      <td>0.153778</td>\n",
       "      <td>0.000000</td>\n",
       "    </tr>\n",
       "    <tr>\n",
       "      <th>2023-05-10 00:00:00+07:00</th>\n",
       "      <td>-0.002952</td>\n",
       "      <td>0.003404</td>\n",
       "      <td>-0.041040</td>\n",
       "      <td>-0.210377</td>\n",
       "      <td>-0.063854</td>\n",
       "    </tr>\n",
       "    <tr>\n",
       "      <th>2023-05-11 00:00:00+07:00</th>\n",
       "      <td>-0.001776</td>\n",
       "      <td>-0.195333</td>\n",
       "      <td>-0.066616</td>\n",
       "      <td>0.556586</td>\n",
       "      <td>0.151553</td>\n",
       "    </tr>\n",
       "    <tr>\n",
       "      <th>2023-05-12 00:00:00+07:00</th>\n",
       "      <td>-0.002966</td>\n",
       "      <td>0.494089</td>\n",
       "      <td>0.013511</td>\n",
       "      <td>-1.189306</td>\n",
       "      <td>-0.280893</td>\n",
       "    </tr>\n",
       "  </tbody>\n",
       "</table>\n",
       "<p>485 rows × 5 columns</p>\n",
       "</div>"
      ],
      "text/plain": [
       "                              sma_9  MACD_12_26  MACD_sign_12_26  \\\n",
       "Date                                                               \n",
       "2021-05-21 00:00:00+07:00  0.032036    0.032898         0.144619   \n",
       "2021-05-24 00:00:00+07:00  0.014026   -0.046486         0.087082   \n",
       "2021-05-25 00:00:00+07:00  0.014512   -0.049592         0.050988   \n",
       "2021-05-27 00:00:00+07:00  0.004470   -0.023882         0.033109   \n",
       "2021-05-28 00:00:00+07:00  0.000000   -0.253591        -0.031582   \n",
       "...                             ...         ...              ...   \n",
       "2023-05-08 00:00:00+07:00  0.006571   -0.092655        -0.041063   \n",
       "2023-05-09 00:00:00+07:00  0.005341   -0.091402        -0.049406   \n",
       "2023-05-10 00:00:00+07:00 -0.002952    0.003404        -0.041040   \n",
       "2023-05-11 00:00:00+07:00 -0.001776   -0.195333        -0.066616   \n",
       "2023-05-12 00:00:00+07:00 -0.002966    0.494089         0.013511   \n",
       "\n",
       "                           MACD_diff_12_26       rsi  \n",
       "Date                                                  \n",
       "2021-05-21 00:00:00+07:00        -0.134295 -0.006607  \n",
       "2021-05-24 00:00:00+07:00        -0.310772  0.062615  \n",
       "2021-05-25 00:00:00+07:00        -0.363489  0.000000  \n",
       "2021-05-27 00:00:00+07:00        -0.317556 -0.023038  \n",
       "2021-05-28 00:00:00+07:00        -1.985467  0.197302  \n",
       "...                                    ...       ...  \n",
       "2023-05-08 00:00:00+07:00         0.322861 -0.058813  \n",
       "2023-05-09 00:00:00+07:00         0.153778  0.000000  \n",
       "2023-05-10 00:00:00+07:00        -0.210377 -0.063854  \n",
       "2023-05-11 00:00:00+07:00         0.556586  0.151553  \n",
       "2023-05-12 00:00:00+07:00        -1.189306 -0.280893  \n",
       "\n",
       "[485 rows x 5 columns]"
      ]
     },
     "execution_count": 263,
     "metadata": {},
     "output_type": "execute_result"
    }
   ],
   "source": [
    "import ta\n",
    "ema = ta.trend.EMAIndicator(close=df['Close'], window=9).ema_indicator()\n",
    "macd_line = ta.trend.MACD(df['Close']).macd()\n",
    "macd_signal = ta.trend.MACD(df['Close']).macd_signal()\n",
    "macd_diff = ta.trend.MACD(df['Close']).macd_diff()\n",
    "rsi = ta.momentum.RSIIndicator(df['Close']).rsi()\n",
    "feature = pd.concat([sma, macd_line, macd_signal, macd_diff, rsi], axis=1)\n",
    "feature = feature.pct_change().dropna()\n",
    "feature"
   ]
  },
  {
   "cell_type": "code",
   "execution_count": 264,
   "id": "3e52cf6c-76b7-4b58-be93-c3c65d4659d8",
   "metadata": {},
   "outputs": [
    {
     "name": "stdout",
     "output_type": "stream",
     "text": [
      "<class 'pandas.core.frame.DataFrame'>\n",
      "DatetimeIndex: 485 entries, 2021-05-21 00:00:00+07:00 to 2023-05-12 00:00:00+07:00\n",
      "Data columns (total 5 columns):\n",
      " #   Column           Non-Null Count  Dtype  \n",
      "---  ------           --------------  -----  \n",
      " 0   sma_9            485 non-null    float64\n",
      " 1   MACD_12_26       485 non-null    float64\n",
      " 2   MACD_sign_12_26  485 non-null    float64\n",
      " 3   MACD_diff_12_26  485 non-null    float64\n",
      " 4   rsi              485 non-null    float64\n",
      "dtypes: float64(5)\n",
      "memory usage: 22.7 KB\n"
     ]
    }
   ],
   "source": [
    "feature.info()"
   ]
  },
  {
   "cell_type": "markdown",
   "id": "696dcff0-c172-4e75-9fbc-2cf3fb75ca18",
   "metadata": {
    "jp-MarkdownHeadingCollapsed": true,
    "tags": []
   },
   "source": [
    "# Target / Label"
   ]
  },
  {
   "cell_type": "code",
   "execution_count": 265,
   "id": "92e18b7d-9942-4dfb-b1c6-1e76cee869ae",
   "metadata": {},
   "outputs": [
    {
     "data": {
      "text/html": [
       "<div>\n",
       "<style scoped>\n",
       "    .dataframe tbody tr th:only-of-type {\n",
       "        vertical-align: middle;\n",
       "    }\n",
       "\n",
       "    .dataframe tbody tr th {\n",
       "        vertical-align: top;\n",
       "    }\n",
       "\n",
       "    .dataframe thead th {\n",
       "        text-align: right;\n",
       "    }\n",
       "</style>\n",
       "<table border=\"1\" class=\"dataframe\">\n",
       "  <thead>\n",
       "    <tr style=\"text-align: right;\">\n",
       "      <th></th>\n",
       "      <th>Close</th>\n",
       "      <th>up</th>\n",
       "      <th>next_up</th>\n",
       "    </tr>\n",
       "    <tr>\n",
       "      <th>Date</th>\n",
       "      <th></th>\n",
       "      <th></th>\n",
       "      <th></th>\n",
       "    </tr>\n",
       "  </thead>\n",
       "  <tbody>\n",
       "    <tr>\n",
       "      <th>2021-03-30 00:00:00+07:00</th>\n",
       "      <td>306.788940</td>\n",
       "      <td>False</td>\n",
       "      <td>True</td>\n",
       "    </tr>\n",
       "    <tr>\n",
       "      <th>2021-03-31 00:00:00+07:00</th>\n",
       "      <td>383.486176</td>\n",
       "      <td>True</td>\n",
       "      <td>True</td>\n",
       "    </tr>\n",
       "    <tr>\n",
       "      <th>2021-04-01 00:00:00+07:00</th>\n",
       "      <td>477.882782</td>\n",
       "      <td>True</td>\n",
       "      <td>True</td>\n",
       "    </tr>\n",
       "    <tr>\n",
       "      <th>2021-04-05 00:00:00+07:00</th>\n",
       "      <td>489.682343</td>\n",
       "      <td>True</td>\n",
       "      <td>True</td>\n",
       "    </tr>\n",
       "    <tr>\n",
       "      <th>2021-04-06 00:00:00+07:00</th>\n",
       "      <td>535.897339</td>\n",
       "      <td>True</td>\n",
       "      <td>True</td>\n",
       "    </tr>\n",
       "    <tr>\n",
       "      <th>...</th>\n",
       "      <td>...</td>\n",
       "      <td>...</td>\n",
       "      <td>...</td>\n",
       "    </tr>\n",
       "    <tr>\n",
       "      <th>2023-05-08 00:00:00+07:00</th>\n",
       "      <td>298.000000</td>\n",
       "      <td>False</td>\n",
       "      <td>False</td>\n",
       "    </tr>\n",
       "    <tr>\n",
       "      <th>2023-05-09 00:00:00+07:00</th>\n",
       "      <td>298.000000</td>\n",
       "      <td>False</td>\n",
       "      <td>False</td>\n",
       "    </tr>\n",
       "    <tr>\n",
       "      <th>2023-05-10 00:00:00+07:00</th>\n",
       "      <td>296.000000</td>\n",
       "      <td>False</td>\n",
       "      <td>True</td>\n",
       "    </tr>\n",
       "    <tr>\n",
       "      <th>2023-05-11 00:00:00+07:00</th>\n",
       "      <td>300.000000</td>\n",
       "      <td>True</td>\n",
       "      <td>False</td>\n",
       "    </tr>\n",
       "    <tr>\n",
       "      <th>2023-05-12 00:00:00+07:00</th>\n",
       "      <td>288.000000</td>\n",
       "      <td>False</td>\n",
       "      <td>NaN</td>\n",
       "    </tr>\n",
       "  </tbody>\n",
       "</table>\n",
       "<p>519 rows × 3 columns</p>\n",
       "</div>"
      ],
      "text/plain": [
       "                                Close     up next_up\n",
       "Date                                                \n",
       "2021-03-30 00:00:00+07:00  306.788940  False    True\n",
       "2021-03-31 00:00:00+07:00  383.486176   True    True\n",
       "2021-04-01 00:00:00+07:00  477.882782   True    True\n",
       "2021-04-05 00:00:00+07:00  489.682343   True    True\n",
       "2021-04-06 00:00:00+07:00  535.897339   True    True\n",
       "...                               ...    ...     ...\n",
       "2023-05-08 00:00:00+07:00  298.000000  False   False\n",
       "2023-05-09 00:00:00+07:00  298.000000  False   False\n",
       "2023-05-10 00:00:00+07:00  296.000000  False    True\n",
       "2023-05-11 00:00:00+07:00  300.000000   True   False\n",
       "2023-05-12 00:00:00+07:00  288.000000  False     NaN\n",
       "\n",
       "[519 rows x 3 columns]"
      ]
     },
     "execution_count": 265,
     "metadata": {},
     "output_type": "execute_result"
    }
   ],
   "source": [
    "df['up'] = False  # initialize 'up' column with 0\n",
    "df.loc[df['Close'] > df['Close'].shift(), 'up'] = True\n",
    "df['next_up'] = df['up'].shift(-1)\n",
    "df[['Close', 'up', 'next_up']]"
   ]
  },
  {
   "cell_type": "code",
   "execution_count": 266,
   "id": "69208003-a0fe-4a7c-92c0-ee847cc688f6",
   "metadata": {},
   "outputs": [
    {
     "name": "stdout",
     "output_type": "stream",
     "text": [
      "<class 'pandas.core.series.Series'>\n",
      "DatetimeIndex: 484 entries, 2021-05-21 00:00:00+07:00 to 2023-05-11 00:00:00+07:00\n",
      "Series name: next_up\n",
      "Non-Null Count  Dtype\n",
      "--------------  -----\n",
      "484 non-null    bool \n",
      "dtypes: bool(1)\n",
      "memory usage: 4.3 KB\n"
     ]
    }
   ],
   "source": [
    "# up or next_up as target?\n",
    "target = df[df.index.isin(feature.index) == True][target_col].dropna().astype('bool')\n",
    "target.info()"
   ]
  },
  {
   "cell_type": "markdown",
   "id": "8c119377-a6a8-42f2-8738-1bae32666174",
   "metadata": {
    "jp-MarkdownHeadingCollapsed": true,
    "tags": []
   },
   "source": [
    "# Align Data Length Between Feature and Target"
   ]
  },
  {
   "cell_type": "code",
   "execution_count": 267,
   "id": "8facaa55-8bc6-4b80-9314-34d15b8bef5e",
   "metadata": {},
   "outputs": [
    {
     "name": "stdout",
     "output_type": "stream",
     "text": [
      "<class 'pandas.core.frame.DataFrame'>\n",
      "DatetimeIndex: 484 entries, 2021-05-21 00:00:00+07:00 to 2023-05-11 00:00:00+07:00\n",
      "Data columns (total 5 columns):\n",
      " #   Column           Non-Null Count  Dtype  \n",
      "---  ------           --------------  -----  \n",
      " 0   sma_9            484 non-null    float64\n",
      " 1   MACD_12_26       484 non-null    float64\n",
      " 2   MACD_sign_12_26  484 non-null    float64\n",
      " 3   MACD_diff_12_26  484 non-null    float64\n",
      " 4   rsi              484 non-null    float64\n",
      "dtypes: float64(5)\n",
      "memory usage: 22.7 KB\n"
     ]
    }
   ],
   "source": [
    "feature = feature[feature.index.isin(target.index) == True]\n",
    "feature.info()"
   ]
  },
  {
   "cell_type": "markdown",
   "id": "15e74d95-9c2a-4beb-8a4b-224dd3317ae4",
   "metadata": {
    "jp-MarkdownHeadingCollapsed": true,
    "tags": []
   },
   "source": [
    "# Classification: Logistic Regression"
   ]
  },
  {
   "cell_type": "code",
   "execution_count": 268,
   "id": "f57c4e36-6e34-4f9c-be7b-46a702320504",
   "metadata": {},
   "outputs": [
    {
     "name": "stdout",
     "output_type": "stream",
     "text": [
      "96\n",
      "Accuracy: 0.75\n"
     ]
    }
   ],
   "source": [
    "from sklearn.model_selection import train_test_split\n",
    "from sklearn.linear_model import LogisticRegression\n",
    "from sklearn.metrics import accuracy_score\n",
    "\n",
    "# Split the data into training and testing sets\n",
    "test_size = int(0.2 * len(target))\n",
    "print(test_size)\n",
    "\n",
    "# Split the data into training and testing sets\n",
    "X_train, y_train = feature[:-test_size], target[:-test_size]\n",
    "X_test, y_test = feature[-test_size:], target[-test_size:]\n",
    "\n",
    "# Initialize the logistic regression model\n",
    "model = LogisticRegression()\n",
    "\n",
    "# Train the model on the training data\n",
    "model.fit(X_train, y_train)\n",
    "\n",
    "# Make predictions on the testing data\n",
    "y_pred = model.predict(X_test)\n",
    "\n",
    "# Evaluate the accuracy of the model\n",
    "accuracy = accuracy_score(y_test, y_pred)\n",
    "print(\"Accuracy:\", accuracy)"
   ]
  },
  {
   "cell_type": "code",
   "execution_count": 269,
   "id": "fb57d59a-d1a6-48cf-8196-e7346506c161",
   "metadata": {},
   "outputs": [
    {
     "data": {
      "text/plain": [
       "array([0.62728242, 0.37271758])"
      ]
     },
     "execution_count": 269,
     "metadata": {},
     "output_type": "execute_result"
    }
   ],
   "source": [
    "# Make probability predictions on the testing data\n",
    "y_pred_proba = model.predict_proba(X_test)\n",
    "y_pred_proba[-1]"
   ]
  },
  {
   "cell_type": "code",
   "execution_count": 270,
   "id": "77fde0a4-66f5-44ba-b7d1-1c94fdc7405e",
   "metadata": {},
   "outputs": [
    {
     "data": {
      "text/html": [
       "<div>\n",
       "<style scoped>\n",
       "    .dataframe tbody tr th:only-of-type {\n",
       "        vertical-align: middle;\n",
       "    }\n",
       "\n",
       "    .dataframe tbody tr th {\n",
       "        vertical-align: top;\n",
       "    }\n",
       "\n",
       "    .dataframe thead th {\n",
       "        text-align: right;\n",
       "    }\n",
       "</style>\n",
       "<table border=\"1\" class=\"dataframe\">\n",
       "  <thead>\n",
       "    <tr style=\"text-align: right;\">\n",
       "      <th></th>\n",
       "      <th>next_up</th>\n",
       "      <th>next_up</th>\n",
       "    </tr>\n",
       "    <tr>\n",
       "      <th>Date</th>\n",
       "      <th></th>\n",
       "      <th></th>\n",
       "    </tr>\n",
       "  </thead>\n",
       "  <tbody>\n",
       "    <tr>\n",
       "      <th>2022-12-15 00:00:00+07:00</th>\n",
       "      <td>False</td>\n",
       "      <td>False</td>\n",
       "    </tr>\n",
       "    <tr>\n",
       "      <th>2022-12-16 00:00:00+07:00</th>\n",
       "      <td>False</td>\n",
       "      <td>False</td>\n",
       "    </tr>\n",
       "    <tr>\n",
       "      <th>2022-12-19 00:00:00+07:00</th>\n",
       "      <td>False</td>\n",
       "      <td>False</td>\n",
       "    </tr>\n",
       "    <tr>\n",
       "      <th>2022-12-20 00:00:00+07:00</th>\n",
       "      <td>False</td>\n",
       "      <td>False</td>\n",
       "    </tr>\n",
       "    <tr>\n",
       "      <th>2022-12-21 00:00:00+07:00</th>\n",
       "      <td>False</td>\n",
       "      <td>False</td>\n",
       "    </tr>\n",
       "    <tr>\n",
       "      <th>...</th>\n",
       "      <td>...</td>\n",
       "      <td>...</td>\n",
       "    </tr>\n",
       "    <tr>\n",
       "      <th>2023-05-05 00:00:00+07:00</th>\n",
       "      <td>False</td>\n",
       "      <td>False</td>\n",
       "    </tr>\n",
       "    <tr>\n",
       "      <th>2023-05-08 00:00:00+07:00</th>\n",
       "      <td>False</td>\n",
       "      <td>False</td>\n",
       "    </tr>\n",
       "    <tr>\n",
       "      <th>2023-05-09 00:00:00+07:00</th>\n",
       "      <td>False</td>\n",
       "      <td>False</td>\n",
       "    </tr>\n",
       "    <tr>\n",
       "      <th>2023-05-10 00:00:00+07:00</th>\n",
       "      <td>True</td>\n",
       "      <td>True</td>\n",
       "    </tr>\n",
       "    <tr>\n",
       "      <th>2023-05-11 00:00:00+07:00</th>\n",
       "      <td>False</td>\n",
       "      <td>False</td>\n",
       "    </tr>\n",
       "  </tbody>\n",
       "</table>\n",
       "<p>96 rows × 2 columns</p>\n",
       "</div>"
      ],
      "text/plain": [
       "                           next_up  next_up\n",
       "Date                                       \n",
       "2022-12-15 00:00:00+07:00    False    False\n",
       "2022-12-16 00:00:00+07:00    False    False\n",
       "2022-12-19 00:00:00+07:00    False    False\n",
       "2022-12-20 00:00:00+07:00    False    False\n",
       "2022-12-21 00:00:00+07:00    False    False\n",
       "...                            ...      ...\n",
       "2023-05-05 00:00:00+07:00    False    False\n",
       "2023-05-08 00:00:00+07:00    False    False\n",
       "2023-05-09 00:00:00+07:00    False    False\n",
       "2023-05-10 00:00:00+07:00     True     True\n",
       "2023-05-11 00:00:00+07:00    False    False\n",
       "\n",
       "[96 rows x 2 columns]"
      ]
     },
     "execution_count": 270,
     "metadata": {},
     "output_type": "execute_result"
    }
   ],
   "source": [
    "pd.concat([y_test,pd.DataFrame(y_test).set_index(y_test.index)], axis=1)"
   ]
  },
  {
   "cell_type": "markdown",
   "id": "1b098299-3da7-49ee-b070-70a99236ee52",
   "metadata": {},
   "source": [
    "# Summary"
   ]
  },
  {
   "cell_type": "code",
   "execution_count": 271,
   "id": "5edd90c7-38e6-4aff-b45e-0e569ca4bbce",
   "metadata": {},
   "outputs": [
    {
     "name": "stdout",
     "output_type": "stream",
     "text": [
      "Ticker: ZYRX.JK\n",
      "Training data size:  388\n",
      "Test data size:  96\n",
      "Accuracy: 0.75\n"
     ]
    }
   ],
   "source": [
    "print('Ticker:', ticker)\n",
    "print('Training data size: ', len(y_train))\n",
    "print('Test data size: ', len(y_test))\n",
    "print(\"Accuracy:\", accuracy)"
   ]
  }
 ],
 "metadata": {
  "kernelspec": {
   "display_name": "Python 3 (ipykernel)",
   "language": "python",
   "name": "python3"
  },
  "language_info": {
   "codemirror_mode": {
    "name": "ipython",
    "version": 3
   },
   "file_extension": ".py",
   "mimetype": "text/x-python",
   "name": "python",
   "nbconvert_exporter": "python",
   "pygments_lexer": "ipython3",
   "version": "3.10.6"
  },
  "toc-autonumbering": true
 },
 "nbformat": 4,
 "nbformat_minor": 5
}
