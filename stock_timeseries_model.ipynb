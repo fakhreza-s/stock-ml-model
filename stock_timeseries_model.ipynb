{
 "cells": [
  {
   "cell_type": "code",
   "execution_count": 14,
   "id": "b1355911-bd1e-45f1-aaa8-db2648c956e8",
   "metadata": {},
   "outputs": [
    {
     "data": {
      "text/html": [
       "<div>\n",
       "<style scoped>\n",
       "    .dataframe tbody tr th:only-of-type {\n",
       "        vertical-align: middle;\n",
       "    }\n",
       "\n",
       "    .dataframe tbody tr th {\n",
       "        vertical-align: top;\n",
       "    }\n",
       "\n",
       "    .dataframe thead th {\n",
       "        text-align: right;\n",
       "    }\n",
       "</style>\n",
       "<table border=\"1\" class=\"dataframe\">\n",
       "  <thead>\n",
       "    <tr style=\"text-align: right;\">\n",
       "      <th></th>\n",
       "      <th>Open</th>\n",
       "      <th>High</th>\n",
       "      <th>Low</th>\n",
       "      <th>Close</th>\n",
       "      <th>Volume</th>\n",
       "      <th>Dividends</th>\n",
       "      <th>Stock Splits</th>\n",
       "    </tr>\n",
       "    <tr>\n",
       "      <th>Date</th>\n",
       "      <th></th>\n",
       "      <th></th>\n",
       "      <th></th>\n",
       "      <th></th>\n",
       "      <th></th>\n",
       "      <th></th>\n",
       "      <th></th>\n",
       "    </tr>\n",
       "  </thead>\n",
       "  <tbody>\n",
       "    <tr>\n",
       "      <th>2023-05-11 00:00:00+07:00</th>\n",
       "      <td>378.0</td>\n",
       "      <td>380.0</td>\n",
       "      <td>370.0</td>\n",
       "      <td>380.0</td>\n",
       "      <td>17025200</td>\n",
       "      <td>0.0</td>\n",
       "      <td>0.0</td>\n",
       "    </tr>\n",
       "    <tr>\n",
       "      <th>2023-05-12 00:00:00+07:00</th>\n",
       "      <td>380.0</td>\n",
       "      <td>382.0</td>\n",
       "      <td>372.0</td>\n",
       "      <td>378.0</td>\n",
       "      <td>12643300</td>\n",
       "      <td>0.0</td>\n",
       "      <td>0.0</td>\n",
       "    </tr>\n",
       "    <tr>\n",
       "      <th>2023-05-15 00:00:00+07:00</th>\n",
       "      <td>378.0</td>\n",
       "      <td>388.0</td>\n",
       "      <td>376.0</td>\n",
       "      <td>380.0</td>\n",
       "      <td>23341900</td>\n",
       "      <td>0.0</td>\n",
       "      <td>0.0</td>\n",
       "    </tr>\n",
       "    <tr>\n",
       "      <th>2023-05-16 00:00:00+07:00</th>\n",
       "      <td>380.0</td>\n",
       "      <td>386.0</td>\n",
       "      <td>372.0</td>\n",
       "      <td>374.0</td>\n",
       "      <td>16674100</td>\n",
       "      <td>0.0</td>\n",
       "      <td>0.0</td>\n",
       "    </tr>\n",
       "    <tr>\n",
       "      <th>2023-05-17 00:00:00+07:00</th>\n",
       "      <td>374.0</td>\n",
       "      <td>376.0</td>\n",
       "      <td>370.0</td>\n",
       "      <td>370.0</td>\n",
       "      <td>10997600</td>\n",
       "      <td>0.0</td>\n",
       "      <td>0.0</td>\n",
       "    </tr>\n",
       "  </tbody>\n",
       "</table>\n",
       "</div>"
      ],
      "text/plain": [
       "                            Open   High    Low  Close    Volume  Dividends  \\\n",
       "Date                                                                         \n",
       "2023-05-11 00:00:00+07:00  378.0  380.0  370.0  380.0  17025200        0.0   \n",
       "2023-05-12 00:00:00+07:00  380.0  382.0  372.0  378.0  12643300        0.0   \n",
       "2023-05-15 00:00:00+07:00  378.0  388.0  376.0  380.0  23341900        0.0   \n",
       "2023-05-16 00:00:00+07:00  380.0  386.0  372.0  374.0  16674100        0.0   \n",
       "2023-05-17 00:00:00+07:00  374.0  376.0  370.0  370.0  10997600        0.0   \n",
       "\n",
       "                           Stock Splits  \n",
       "Date                                     \n",
       "2023-05-11 00:00:00+07:00           0.0  \n",
       "2023-05-12 00:00:00+07:00           0.0  \n",
       "2023-05-15 00:00:00+07:00           0.0  \n",
       "2023-05-16 00:00:00+07:00           0.0  \n",
       "2023-05-17 00:00:00+07:00           0.0  "
      ]
     },
     "execution_count": 14,
     "metadata": {},
     "output_type": "execute_result"
    }
   ],
   "source": [
    "import yfinance as yf\n",
    "ticker = 'SMDR.JK'\n",
    "obj = yf.Ticker(ticker)\n",
    "df = obj.history(period='5y')\n",
    "df.tail()"
   ]
  },
  {
   "cell_type": "code",
   "execution_count": 27,
   "id": "aa956357-f3f5-4509-aa66-20fb71282c3a",
   "metadata": {},
   "outputs": [
    {
     "name": "stdout",
     "output_type": "stream",
     "text": [
      "                               SARIMAX Results                                \n",
      "==============================================================================\n",
      "Dep. Variable:                  Close   No. Observations:                 1243\n",
      "Model:                 ARIMA(1, 0, 0)   Log Likelihood                2465.334\n",
      "Date:                Wed, 17 May 2023   AIC                          -4924.669\n",
      "Time:                        16:38:13   BIC                          -4909.293\n",
      "Sample:                             0   HQIC                         -4918.887\n",
      "                               - 1243                                         \n",
      "Covariance Type:                  opg                                         \n",
      "==============================================================================\n",
      "                 coef    std err          z      P>|z|      [0.025      0.975]\n",
      "------------------------------------------------------------------------------\n",
      "const          0.0021      0.001      1.707      0.088      -0.000       0.004\n",
      "ar.L1          0.0713      0.018      3.870      0.000       0.035       0.107\n",
      "sigma2         0.0011   2.13e-05     52.036      0.000       0.001       0.001\n",
      "===================================================================================\n",
      "Ljung-Box (L1) (Q):                   0.01   Jarque-Bera (JB):              6244.91\n",
      "Prob(Q):                              0.94   Prob(JB):                         0.00\n",
      "Heteroskedasticity (H):               4.72   Skew:                             1.88\n",
      "Prob(H) (two-sided):                  0.00   Kurtosis:                        13.32\n",
      "===================================================================================\n",
      "\n",
      "Warnings:\n",
      "[1] Covariance matrix calculated using the outer product of gradients (complex-step).\n"
     ]
    },
    {
     "name": "stderr",
     "output_type": "stream",
     "text": [
      "C:\\Python\\Python310\\lib\\site-packages\\statsmodels\\tsa\\base\\tsa_model.py:471: ValueWarning: A date index has been provided, but it has no associated frequency information and so will be ignored when e.g. forecasting.\n",
      "  self._init_dates(dates, freq)\n",
      "C:\\Python\\Python310\\lib\\site-packages\\statsmodels\\tsa\\base\\tsa_model.py:471: ValueWarning: A date index has been provided, but it has no associated frequency information and so will be ignored when e.g. forecasting.\n",
      "  self._init_dates(dates, freq)\n",
      "C:\\Python\\Python310\\lib\\site-packages\\statsmodels\\tsa\\base\\tsa_model.py:471: ValueWarning: A date index has been provided, but it has no associated frequency information and so will be ignored when e.g. forecasting.\n",
      "  self._init_dates(dates, freq)\n"
     ]
    }
   ],
   "source": [
    "import pandas as pd\n",
    "from statsmodels.tsa.arima.model import ARIMA\n",
    "\n",
    "# Load the stock close price data into a pandas DataFrame called 'df'\n",
    "# Assuming the date is stored in the index and the close prices are in the 'Close' column\n",
    "\n",
    "p, q = 1, 0\n",
    "\n",
    "# Create the ARMA model\n",
    "model = ARIMA(df['Close'].pct_change().dropna(), order=(p,0,q))\n",
    "\n",
    "# Fit the model to the data\n",
    "results = model.fit()\n",
    "\n",
    "# Print the model summary\n",
    "print(results.summary())"
   ]
  },
  {
   "cell_type": "code",
   "execution_count": 23,
   "id": "616ba4c0-794e-4a15-94c9-fa79813545a6",
   "metadata": {},
   "outputs": [
    {
     "data": {
      "text/plain": [
       "<AxesSubplot:xlabel='Date'>"
      ]
     },
     "execution_count": 23,
     "metadata": {},
     "output_type": "execute_result"
    },
    {
     "data": {
      "image/png": "[encoded data removed]",
      "text/plain": [
       "<Figure size 640x480 with 1 Axes>"
      ]
     },
     "metadata": {},
     "output_type": "display_data"
    }
   ],
   "source": [
    "df['Close'].pct_change().plot()"
   ]
  }
 ],
 "metadata": {
  "kernelspec": {
   "display_name": "Python 3 (ipykernel)",
   "language": "python",
   "name": "python3"
  },
  "language_info": {
   "codemirror_mode": {
    "name": "ipython",
    "version": 3
   },
   "file_extension": ".py",
   "mimetype": "text/x-python",
   "name": "python",
   "nbconvert_exporter": "python",
   "pygments_lexer": "ipython3",
   "version": "3.10.6"
  }
 },
 "nbformat": 4,
 "nbformat_minor": 5
}
