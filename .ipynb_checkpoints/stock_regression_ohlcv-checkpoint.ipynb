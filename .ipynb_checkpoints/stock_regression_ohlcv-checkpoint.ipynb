{
 "cells": [
  {
   "cell_type": "code",
   "execution_count": 30,
   "id": "b30e4ada-d6a2-4f40-a4cb-3afa24c883e9",
   "metadata": {},
   "outputs": [],
   "source": [
    "import pandas as pd\n",
    "import yfinance as yf"
   ]
  },
  {
   "cell_type": "markdown",
   "id": "7e8ebe34-876d-4e5e-b6ae-22a6f107c05d",
   "metadata": {},
   "source": [
    "Input ticker code and target.\n",
    "For target, 'up' means the price increase/decrease for the same day as the technical indicator while 'next_up' does for the next day."
   ]
  },
  {
   "cell_type": "code",
   "execution_count": 31,
   "id": "f40eefbe-0d06-4fd3-8000-856a7793da2e",
   "metadata": {},
   "outputs": [],
   "source": [
    "# Input ticker code\n",
    "ticker = 'ISAT.JK'\n",
    "\n",
    "# Select 'up' or 'next_up' as target\n",
    "target_col = 'next_up'\n",
    "\n",
    "# Data period\n",
    "period = '5y'"
   ]
  },
  {
   "cell_type": "code",
   "execution_count": 32,
   "id": "23284955-44ee-4bf7-a973-f37d95e63f60",
   "metadata": {},
   "outputs": [],
   "source": [
    "# Feature parameters\n",
    "\n",
    "# Input MA Cross Window\n",
    "window_short_cross = 9\n",
    "window_long_cross = 26\n",
    "# Input EMA Window\n",
    "window_ema = 20\n",
    "# Input MACD Window\n",
    "window_short_macd = 12\n",
    "window_long_macd = 26\n",
    "window_sign_macd = 9"
   ]
  },
  {
   "cell_type": "markdown",
   "id": "ae40f2fc-c9b8-4547-a013-0f92a5abd2df",
   "metadata": {
    "tags": []
   },
   "source": [
    "# Data Acquisition (yfinance)"
   ]
  },
  {
   "cell_type": "code",
   "execution_count": 33,
   "id": "40820c6b-1c1f-40dc-a4f5-590bd717cf71",
   "metadata": {},
   "outputs": [
    {
     "name": "stdout",
     "output_type": "stream",
     "text": [
      "yfinance.Ticker object <ISAT.JK>\n"
     ]
    },
    {
     "data": {
      "text/html": [
       "<div>\n",
       "<style scoped>\n",
       "    .dataframe tbody tr th:only-of-type {\n",
       "        vertical-align: middle;\n",
       "    }\n",
       "\n",
       "    .dataframe tbody tr th {\n",
       "        vertical-align: top;\n",
       "    }\n",
       "\n",
       "    .dataframe thead th {\n",
       "        text-align: right;\n",
       "    }\n",
       "</style>\n",
       "<table border=\"1\" class=\"dataframe\">\n",
       "  <thead>\n",
       "    <tr style=\"text-align: right;\">\n",
       "      <th></th>\n",
       "      <th>Open</th>\n",
       "      <th>High</th>\n",
       "      <th>Low</th>\n",
       "      <th>Close</th>\n",
       "      <th>Volume</th>\n",
       "      <th>Dividends</th>\n",
       "      <th>Stock Splits</th>\n",
       "    </tr>\n",
       "    <tr>\n",
       "      <th>Date</th>\n",
       "      <th></th>\n",
       "      <th></th>\n",
       "      <th></th>\n",
       "      <th></th>\n",
       "      <th></th>\n",
       "      <th></th>\n",
       "      <th></th>\n",
       "    </tr>\n",
       "  </thead>\n",
       "  <tbody>\n",
       "    <tr>\n",
       "      <th>2018-05-17 00:00:00+07:00</th>\n",
       "      <td>2779.929688</td>\n",
       "      <td>2924.011409</td>\n",
       "      <td>2771.454292</td>\n",
       "      <td>2779.929688</td>\n",
       "      <td>2948700</td>\n",
       "      <td>0.0</td>\n",
       "      <td>0.0</td>\n",
       "    </tr>\n",
       "    <tr>\n",
       "      <th>2018-05-18 00:00:00+07:00</th>\n",
       "      <td>2834.539830</td>\n",
       "      <td>2843.208147</td>\n",
       "      <td>2791.198242</td>\n",
       "      <td>2791.198242</td>\n",
       "      <td>819600</td>\n",
       "      <td>73.0</td>\n",
       "      <td>0.0</td>\n",
       "    </tr>\n",
       "    <tr>\n",
       "      <th>2018-05-21 00:00:00+07:00</th>\n",
       "      <td>2791.198559</td>\n",
       "      <td>2825.871833</td>\n",
       "      <td>2756.525285</td>\n",
       "      <td>2765.193604</td>\n",
       "      <td>962500</td>\n",
       "      <td>0.0</td>\n",
       "      <td>0.0</td>\n",
       "    </tr>\n",
       "    <tr>\n",
       "      <th>2018-05-22 00:00:00+07:00</th>\n",
       "      <td>2773.861748</td>\n",
       "      <td>2808.535020</td>\n",
       "      <td>2739.188477</td>\n",
       "      <td>2739.188477</td>\n",
       "      <td>462600</td>\n",
       "      <td>0.0</td>\n",
       "      <td>0.0</td>\n",
       "    </tr>\n",
       "    <tr>\n",
       "      <th>2018-05-23 00:00:00+07:00</th>\n",
       "      <td>2739.188510</td>\n",
       "      <td>2782.530101</td>\n",
       "      <td>2739.188510</td>\n",
       "      <td>2756.525146</td>\n",
       "      <td>387200</td>\n",
       "      <td>0.0</td>\n",
       "      <td>0.0</td>\n",
       "    </tr>\n",
       "  </tbody>\n",
       "</table>\n",
       "</div>"
      ],
      "text/plain": [
       "                                  Open         High          Low        Close  \\\n",
       "Date                                                                            \n",
       "2018-05-17 00:00:00+07:00  2779.929688  2924.011409  2771.454292  2779.929688   \n",
       "2018-05-18 00:00:00+07:00  2834.539830  2843.208147  2791.198242  2791.198242   \n",
       "2018-05-21 00:00:00+07:00  2791.198559  2825.871833  2756.525285  2765.193604   \n",
       "2018-05-22 00:00:00+07:00  2773.861748  2808.535020  2739.188477  2739.188477   \n",
       "2018-05-23 00:00:00+07:00  2739.188510  2782.530101  2739.188510  2756.525146   \n",
       "\n",
       "                            Volume  Dividends  Stock Splits  \n",
       "Date                                                         \n",
       "2018-05-17 00:00:00+07:00  2948700        0.0           0.0  \n",
       "2018-05-18 00:00:00+07:00   819600       73.0           0.0  \n",
       "2018-05-21 00:00:00+07:00   962500        0.0           0.0  \n",
       "2018-05-22 00:00:00+07:00   462600        0.0           0.0  \n",
       "2018-05-23 00:00:00+07:00   387200        0.0           0.0  "
      ]
     },
     "execution_count": 33,
     "metadata": {},
     "output_type": "execute_result"
    }
   ],
   "source": [
    "obj = yf.Ticker(ticker)\n",
    "print(obj)\n",
    "df = obj.history(period=period)\n",
    "df.head()"
   ]
  },
  {
   "cell_type": "markdown",
   "id": "5f805855-ca3f-46da-b20b-530f75d2db9f",
   "metadata": {
    "tags": []
   },
   "source": [
    "# Feature Calculation (Technical Indicators)"
   ]
  },
  {
   "cell_type": "code",
   "execution_count": 34,
   "id": "1bb825e2-449c-4ea9-9c0d-2775114be982",
   "metadata": {},
   "outputs": [
    {
     "data": {
      "text/html": [
       "<div>\n",
       "<style scoped>\n",
       "    .dataframe tbody tr th:only-of-type {\n",
       "        vertical-align: middle;\n",
       "    }\n",
       "\n",
       "    .dataframe tbody tr th {\n",
       "        vertical-align: top;\n",
       "    }\n",
       "\n",
       "    .dataframe thead th {\n",
       "        text-align: right;\n",
       "    }\n",
       "</style>\n",
       "<table border=\"1\" class=\"dataframe\">\n",
       "  <thead>\n",
       "    <tr style=\"text-align: right;\">\n",
       "      <th></th>\n",
       "      <th>ema_20</th>\n",
       "      <th>sma_cross_9_26</th>\n",
       "      <th>MACD_12_26</th>\n",
       "      <th>MACD_sign_12_26</th>\n",
       "      <th>MACD_diff_12_26</th>\n",
       "      <th>rsi</th>\n",
       "    </tr>\n",
       "    <tr>\n",
       "      <th>Date</th>\n",
       "      <th></th>\n",
       "      <th></th>\n",
       "      <th></th>\n",
       "      <th></th>\n",
       "      <th></th>\n",
       "      <th></th>\n",
       "    </tr>\n",
       "  </thead>\n",
       "  <tbody>\n",
       "    <tr>\n",
       "      <th>2018-07-04 00:00:00+07:00</th>\n",
       "      <td>-0.000563</td>\n",
       "      <td>0.156962</td>\n",
       "      <td>-0.078540</td>\n",
       "      <td>0.253076</td>\n",
       "      <td>-0.305912</td>\n",
       "      <td>0.237218</td>\n",
       "    </tr>\n",
       "    <tr>\n",
       "      <th>2018-07-05 00:00:00+07:00</th>\n",
       "      <td>0.000671</td>\n",
       "      <td>0.026805</td>\n",
       "      <td>-0.205816</td>\n",
       "      <td>0.087154</td>\n",
       "      <td>-0.568467</td>\n",
       "      <td>0.106695</td>\n",
       "    </tr>\n",
       "    <tr>\n",
       "      <th>2018-07-06 00:00:00+07:00</th>\n",
       "      <td>0.001492</td>\n",
       "      <td>-0.106553</td>\n",
       "      <td>-0.334976</td>\n",
       "      <td>-0.024345</td>\n",
       "      <td>-1.303676</td>\n",
       "      <td>0.065571</td>\n",
       "    </tr>\n",
       "    <tr>\n",
       "      <th>2018-07-09 00:00:00+07:00</th>\n",
       "      <td>0.002231</td>\n",
       "      <td>-0.227192</td>\n",
       "      <td>-0.587294</td>\n",
       "      <td>-0.125697</td>\n",
       "      <td>4.037509</td>\n",
       "      <td>0.057244</td>\n",
       "    </tr>\n",
       "    <tr>\n",
       "      <th>2018-07-10 00:00:00+07:00</th>\n",
       "      <td>0.003189</td>\n",
       "      <td>-0.314043</td>\n",
       "      <td>-1.711893</td>\n",
       "      <td>-0.260500</td>\n",
       "      <td>0.811943</td>\n",
       "      <td>0.065602</td>\n",
       "    </tr>\n",
       "    <tr>\n",
       "      <th>...</th>\n",
       "      <td>...</td>\n",
       "      <td>...</td>\n",
       "      <td>...</td>\n",
       "      <td>...</td>\n",
       "      <td>...</td>\n",
       "      <td>...</td>\n",
       "    </tr>\n",
       "    <tr>\n",
       "      <th>2023-05-11 00:00:00+07:00</th>\n",
       "      <td>0.005359</td>\n",
       "      <td>0.153234</td>\n",
       "      <td>0.005187</td>\n",
       "      <td>0.141392</td>\n",
       "      <td>-0.189907</td>\n",
       "      <td>-0.094627</td>\n",
       "    </tr>\n",
       "    <tr>\n",
       "      <th>2023-05-12 00:00:00+07:00</th>\n",
       "      <td>0.007456</td>\n",
       "      <td>0.113460</td>\n",
       "      <td>0.058122</td>\n",
       "      <td>0.116486</td>\n",
       "      <td>-0.059664</td>\n",
       "      <td>0.063812</td>\n",
       "    </tr>\n",
       "    <tr>\n",
       "      <th>2023-05-15 00:00:00+07:00</th>\n",
       "      <td>0.005062</td>\n",
       "      <td>0.013173</td>\n",
       "      <td>-0.007034</td>\n",
       "      <td>0.081472</td>\n",
       "      <td>-0.219112</td>\n",
       "      <td>-0.086223</td>\n",
       "    </tr>\n",
       "    <tr>\n",
       "      <th>2023-05-16 00:00:00+07:00</th>\n",
       "      <td>0.001306</td>\n",
       "      <td>-0.035946</td>\n",
       "      <td>-0.094843</td>\n",
       "      <td>0.035583</td>\n",
       "      <td>-0.527666</td>\n",
       "      <td>-0.156625</td>\n",
       "    </tr>\n",
       "    <tr>\n",
       "      <th>2023-05-17 00:00:00+07:00</th>\n",
       "      <td>0.004752</td>\n",
       "      <td>-0.022610</td>\n",
       "      <td>0.001175</td>\n",
       "      <td>0.027756</td>\n",
       "      <td>-0.192218</td>\n",
       "      <td>0.121285</td>\n",
       "    </tr>\n",
       "  </tbody>\n",
       "</table>\n",
       "<p>1209 rows × 6 columns</p>\n",
       "</div>"
      ],
      "text/plain": [
       "                             ema_20  sma_cross_9_26  MACD_12_26  \\\n",
       "Date                                                              \n",
       "2018-07-04 00:00:00+07:00 -0.000563        0.156962   -0.078540   \n",
       "2018-07-05 00:00:00+07:00  0.000671        0.026805   -0.205816   \n",
       "2018-07-06 00:00:00+07:00  0.001492       -0.106553   -0.334976   \n",
       "2018-07-09 00:00:00+07:00  0.002231       -0.227192   -0.587294   \n",
       "2018-07-10 00:00:00+07:00  0.003189       -0.314043   -1.711893   \n",
       "...                             ...             ...         ...   \n",
       "2023-05-11 00:00:00+07:00  0.005359        0.153234    0.005187   \n",
       "2023-05-12 00:00:00+07:00  0.007456        0.113460    0.058122   \n",
       "2023-05-15 00:00:00+07:00  0.005062        0.013173   -0.007034   \n",
       "2023-05-16 00:00:00+07:00  0.001306       -0.035946   -0.094843   \n",
       "2023-05-17 00:00:00+07:00  0.004752       -0.022610    0.001175   \n",
       "\n",
       "                           MACD_sign_12_26  MACD_diff_12_26       rsi  \n",
       "Date                                                                   \n",
       "2018-07-04 00:00:00+07:00         0.253076        -0.305912  0.237218  \n",
       "2018-07-05 00:00:00+07:00         0.087154        -0.568467  0.106695  \n",
       "2018-07-06 00:00:00+07:00        -0.024345        -1.303676  0.065571  \n",
       "2018-07-09 00:00:00+07:00        -0.125697         4.037509  0.057244  \n",
       "2018-07-10 00:00:00+07:00        -0.260500         0.811943  0.065602  \n",
       "...                                    ...              ...       ...  \n",
       "2023-05-11 00:00:00+07:00         0.141392        -0.189907 -0.094627  \n",
       "2023-05-12 00:00:00+07:00         0.116486        -0.059664  0.063812  \n",
       "2023-05-15 00:00:00+07:00         0.081472        -0.219112 -0.086223  \n",
       "2023-05-16 00:00:00+07:00         0.035583        -0.527666 -0.156625  \n",
       "2023-05-17 00:00:00+07:00         0.027756        -0.192218  0.121285  \n",
       "\n",
       "[1209 rows x 6 columns]"
      ]
     },
     "execution_count": 34,
     "metadata": {},
     "output_type": "execute_result"
    }
   ],
   "source": [
    "import ta\n",
    "import numpy as np\n",
    "# Price indicator\n",
    "ema = ta.trend.EMAIndicator(close=df['Close'], window=window_ema).ema_indicator()\n",
    "sma_short = ta.trend.sma_indicator(close=df['Close'], window=window_short_cross, fillna=True)\n",
    "sma_long = ta.trend.sma_indicator(close=df['Close'], window=window_long_cross, fillna=True) \n",
    "sma_cross = sma_short - sma_long\n",
    "sma_cross = sma_cross.rename(f'sma_cross_{window_short_cross}_{window_long_cross}')\n",
    "macd_line = ta.trend.MACD(df['Close'], window_slow=window_long_macd, window_fast=window_short_macd, window_sign=window_sign_macd).macd()\n",
    "macd_signal = ta.trend.MACD(df['Close'], window_slow=window_long_macd, window_fast=window_short_macd, window_sign=window_sign_macd).macd_signal()\n",
    "macd_diff = ta.trend.MACD(df['Close'], window_slow=window_long_macd, window_fast=window_short_macd, window_sign=window_sign_macd).macd_diff()\n",
    "rsi = ta.momentum.RSIIndicator(df['Close']).rsi()\n",
    "\n",
    "# Volume indicator\n",
    "#obv = ta.volume.OnBalanceVolumeIndicator(close=df['Close'], volume=df['Volume']).on_balance_volume()\n",
    "\n",
    "feature = pd.concat([ema, sma_cross, macd_line, macd_signal, macd_diff, rsi], axis=1)\n",
    "feature = feature.pct_change().dropna()\n",
    "feature[f'sma_cross_{window_short_cross}_{window_long_cross}'] = feature[f'sma_cross_{window_short_cross}_{window_long_cross}'].replace([np.inf, -np.inf], 0)\n",
    "feature"
   ]
  },
  {
   "cell_type": "code",
   "execution_count": 35,
   "id": "3e52cf6c-76b7-4b58-be93-c3c65d4659d8",
   "metadata": {},
   "outputs": [
    {
     "name": "stdout",
     "output_type": "stream",
     "text": [
      "<class 'pandas.core.frame.DataFrame'>\n",
      "DatetimeIndex: 1209 entries, 2018-07-04 00:00:00+07:00 to 2023-05-17 00:00:00+07:00\n",
      "Data columns (total 6 columns):\n",
      " #   Column           Non-Null Count  Dtype  \n",
      "---  ------           --------------  -----  \n",
      " 0   ema_20           1209 non-null   float64\n",
      " 1   sma_cross_9_26   1209 non-null   float64\n",
      " 2   MACD_12_26       1209 non-null   float64\n",
      " 3   MACD_sign_12_26  1209 non-null   float64\n",
      " 4   MACD_diff_12_26  1209 non-null   float64\n",
      " 5   rsi              1209 non-null   float64\n",
      "dtypes: float64(6)\n",
      "memory usage: 66.1 KB\n"
     ]
    }
   ],
   "source": [
    "feature.info()"
   ]
  },
  {
   "cell_type": "markdown",
   "id": "696dcff0-c172-4e75-9fbc-2cf3fb75ca18",
   "metadata": {
    "jp-MarkdownHeadingCollapsed": true,
    "tags": []
   },
   "source": [
    "# Target / Label"
   ]
  },
  {
   "cell_type": "code",
   "execution_count": 36,
   "id": "92e18b7d-9942-4dfb-b1c6-1e76cee869ae",
   "metadata": {},
   "outputs": [
    {
     "data": {
      "text/html": [
       "<div>\n",
       "<style scoped>\n",
       "    .dataframe tbody tr th:only-of-type {\n",
       "        vertical-align: middle;\n",
       "    }\n",
       "\n",
       "    .dataframe tbody tr th {\n",
       "        vertical-align: top;\n",
       "    }\n",
       "\n",
       "    .dataframe thead th {\n",
       "        text-align: right;\n",
       "    }\n",
       "</style>\n",
       "<table border=\"1\" class=\"dataframe\">\n",
       "  <thead>\n",
       "    <tr style=\"text-align: right;\">\n",
       "      <th></th>\n",
       "      <th>Close</th>\n",
       "      <th>up</th>\n",
       "      <th>next_up</th>\n",
       "    </tr>\n",
       "    <tr>\n",
       "      <th>Date</th>\n",
       "      <th></th>\n",
       "      <th></th>\n",
       "      <th></th>\n",
       "    </tr>\n",
       "  </thead>\n",
       "  <tbody>\n",
       "    <tr>\n",
       "      <th>2018-05-17 00:00:00+07:00</th>\n",
       "      <td>2779.929688</td>\n",
       "      <td>False</td>\n",
       "      <td>True</td>\n",
       "    </tr>\n",
       "    <tr>\n",
       "      <th>2018-05-18 00:00:00+07:00</th>\n",
       "      <td>2791.198242</td>\n",
       "      <td>True</td>\n",
       "      <td>False</td>\n",
       "    </tr>\n",
       "    <tr>\n",
       "      <th>2018-05-21 00:00:00+07:00</th>\n",
       "      <td>2765.193604</td>\n",
       "      <td>False</td>\n",
       "      <td>False</td>\n",
       "    </tr>\n",
       "    <tr>\n",
       "      <th>2018-05-22 00:00:00+07:00</th>\n",
       "      <td>2739.188477</td>\n",
       "      <td>False</td>\n",
       "      <td>True</td>\n",
       "    </tr>\n",
       "    <tr>\n",
       "      <th>2018-05-23 00:00:00+07:00</th>\n",
       "      <td>2756.525146</td>\n",
       "      <td>True</td>\n",
       "      <td>False</td>\n",
       "    </tr>\n",
       "    <tr>\n",
       "      <th>...</th>\n",
       "      <td>...</td>\n",
       "      <td>...</td>\n",
       "      <td>...</td>\n",
       "    </tr>\n",
       "    <tr>\n",
       "      <th>2023-05-11 00:00:00+07:00</th>\n",
       "      <td>7600.000000</td>\n",
       "      <td>False</td>\n",
       "      <td>True</td>\n",
       "    </tr>\n",
       "    <tr>\n",
       "      <th>2023-05-12 00:00:00+07:00</th>\n",
       "      <td>7800.000000</td>\n",
       "      <td>True</td>\n",
       "      <td>False</td>\n",
       "    </tr>\n",
       "    <tr>\n",
       "      <th>2023-05-15 00:00:00+07:00</th>\n",
       "      <td>7675.000000</td>\n",
       "      <td>False</td>\n",
       "      <td>False</td>\n",
       "    </tr>\n",
       "    <tr>\n",
       "      <th>2023-05-16 00:00:00+07:00</th>\n",
       "      <td>7425.000000</td>\n",
       "      <td>False</td>\n",
       "      <td>True</td>\n",
       "    </tr>\n",
       "    <tr>\n",
       "      <th>2023-05-17 00:00:00+07:00</th>\n",
       "      <td>7700.000000</td>\n",
       "      <td>True</td>\n",
       "      <td>NaN</td>\n",
       "    </tr>\n",
       "  </tbody>\n",
       "</table>\n",
       "<p>1243 rows × 3 columns</p>\n",
       "</div>"
      ],
      "text/plain": [
       "                                 Close     up next_up\n",
       "Date                                                 \n",
       "2018-05-17 00:00:00+07:00  2779.929688  False    True\n",
       "2018-05-18 00:00:00+07:00  2791.198242   True   False\n",
       "2018-05-21 00:00:00+07:00  2765.193604  False   False\n",
       "2018-05-22 00:00:00+07:00  2739.188477  False    True\n",
       "2018-05-23 00:00:00+07:00  2756.525146   True   False\n",
       "...                                ...    ...     ...\n",
       "2023-05-11 00:00:00+07:00  7600.000000  False    True\n",
       "2023-05-12 00:00:00+07:00  7800.000000   True   False\n",
       "2023-05-15 00:00:00+07:00  7675.000000  False   False\n",
       "2023-05-16 00:00:00+07:00  7425.000000  False    True\n",
       "2023-05-17 00:00:00+07:00  7700.000000   True     NaN\n",
       "\n",
       "[1243 rows x 3 columns]"
      ]
     },
     "execution_count": 36,
     "metadata": {},
     "output_type": "execute_result"
    }
   ],
   "source": [
    "df['up'] = False  # initialize 'up' column with 0\n",
    "df.loc[df['Close'] > df['Close'].shift(), 'up'] = True\n",
    "df['next_up'] = df['up'].shift(-1)\n",
    "df[['Close', 'up', 'next_up']]"
   ]
  },
  {
   "cell_type": "code",
   "execution_count": 37,
   "id": "69208003-a0fe-4a7c-92c0-ee847cc688f6",
   "metadata": {},
   "outputs": [
    {
     "name": "stdout",
     "output_type": "stream",
     "text": [
      "<class 'pandas.core.series.Series'>\n",
      "DatetimeIndex: 1208 entries, 2018-07-04 00:00:00+07:00 to 2023-05-16 00:00:00+07:00\n",
      "Series name: next_up\n",
      "Non-Null Count  Dtype\n",
      "--------------  -----\n",
      "1208 non-null   bool \n",
      "dtypes: bool(1)\n",
      "memory usage: 10.6 KB\n"
     ]
    }
   ],
   "source": [
    "# up or next_up as target?\n",
    "target = df[df.index.isin(feature.index) == True][target_col].dropna().astype('bool')\n",
    "target.info()"
   ]
  },
  {
   "cell_type": "markdown",
   "id": "8c119377-a6a8-42f2-8738-1bae32666174",
   "metadata": {
    "tags": []
   },
   "source": [
    "# Align Data Length Between Feature and Target"
   ]
  },
  {
   "cell_type": "code",
   "execution_count": 38,
   "id": "8facaa55-8bc6-4b80-9314-34d15b8bef5e",
   "metadata": {},
   "outputs": [
    {
     "name": "stdout",
     "output_type": "stream",
     "text": [
      "1208 1208\n"
     ]
    }
   ],
   "source": [
    "feature = feature[feature.index.isin(target.index) == True]\n",
    "target = target[target.index.isin(feature.index) == True]\n",
    "print(len(feature), len(target))"
   ]
  },
  {
   "cell_type": "markdown",
   "id": "15e74d95-9c2a-4beb-8a4b-224dd3317ae4",
   "metadata": {
    "tags": []
   },
   "source": [
    "# Classification: Logistic Regression"
   ]
  },
  {
   "cell_type": "code",
   "execution_count": 39,
   "id": "f57c4e36-6e34-4f9c-be7b-46a702320504",
   "metadata": {},
   "outputs": [
    {
     "name": "stdout",
     "output_type": "stream",
     "text": [
      "241\n",
      "Accuracy: 0.5477178423236515\n"
     ]
    }
   ],
   "source": [
    "from sklearn.model_selection import train_test_split\n",
    "from sklearn.linear_model import LogisticRegression\n",
    "from sklearn.metrics import accuracy_score\n",
    "\n",
    "# Split the data into training and testing sets\n",
    "test_size = int(0.2 * len(target))\n",
    "print(test_size)\n",
    "\n",
    "# Split the data into training and testing sets\n",
    "X_train, y_train = feature[:-test_size], target[:-test_size]\n",
    "X_test, y_test = feature[-test_size:], target[-test_size:]\n",
    "\n",
    "# Initialize the logistic regression model\n",
    "model = LogisticRegression()\n",
    "\n",
    "# Train the model on the training data\n",
    "model.fit(X_train, y_train)\n",
    "\n",
    "# Make predictions on the testing data\n",
    "y_pred = model.predict(X_test)\n",
    "y_pred_proba = model.predict_proba(X_test)\n",
    "\n",
    "# Evaluate the accuracy of the model\n",
    "accuracy = accuracy_score(y_test, y_pred)\n",
    "print(\"Accuracy:\", accuracy)"
   ]
  },
  {
   "cell_type": "code",
   "execution_count": 40,
   "id": "fb57d59a-d1a6-48cf-8196-e7346506c161",
   "metadata": {},
   "outputs": [
    {
     "data": {
      "text/plain": [
       "array([0.59795463, 0.40204537])"
      ]
     },
     "execution_count": 40,
     "metadata": {},
     "output_type": "execute_result"
    }
   ],
   "source": [
    "# Make probability predictions on the testing data\n",
    "y_pred_proba = model.predict_proba(X_test)\n",
    "y_pred_proba[-1]"
   ]
  },
  {
   "cell_type": "code",
   "execution_count": 41,
   "id": "77fde0a4-66f5-44ba-b7d1-1c94fdc7405e",
   "metadata": {},
   "outputs": [
    {
     "data": {
      "text/html": [
       "<div>\n",
       "<style scoped>\n",
       "    .dataframe tbody tr th:only-of-type {\n",
       "        vertical-align: middle;\n",
       "    }\n",
       "\n",
       "    .dataframe tbody tr th {\n",
       "        vertical-align: top;\n",
       "    }\n",
       "\n",
       "    .dataframe thead th {\n",
       "        text-align: right;\n",
       "    }\n",
       "</style>\n",
       "<table border=\"1\" class=\"dataframe\">\n",
       "  <thead>\n",
       "    <tr style=\"text-align: right;\">\n",
       "      <th></th>\n",
       "      <th>next_up</th>\n",
       "      <th>next_up</th>\n",
       "    </tr>\n",
       "    <tr>\n",
       "      <th>Date</th>\n",
       "      <th></th>\n",
       "      <th></th>\n",
       "    </tr>\n",
       "  </thead>\n",
       "  <tbody>\n",
       "    <tr>\n",
       "      <th>2022-05-27 00:00:00+07:00</th>\n",
       "      <td>False</td>\n",
       "      <td>False</td>\n",
       "    </tr>\n",
       "    <tr>\n",
       "      <th>2022-05-30 00:00:00+07:00</th>\n",
       "      <td>False</td>\n",
       "      <td>False</td>\n",
       "    </tr>\n",
       "    <tr>\n",
       "      <th>2022-05-31 00:00:00+07:00</th>\n",
       "      <td>True</td>\n",
       "      <td>True</td>\n",
       "    </tr>\n",
       "    <tr>\n",
       "      <th>2022-06-02 00:00:00+07:00</th>\n",
       "      <td>True</td>\n",
       "      <td>True</td>\n",
       "    </tr>\n",
       "    <tr>\n",
       "      <th>2022-06-03 00:00:00+07:00</th>\n",
       "      <td>False</td>\n",
       "      <td>False</td>\n",
       "    </tr>\n",
       "    <tr>\n",
       "      <th>...</th>\n",
       "      <td>...</td>\n",
       "      <td>...</td>\n",
       "    </tr>\n",
       "    <tr>\n",
       "      <th>2023-05-10 00:00:00+07:00</th>\n",
       "      <td>False</td>\n",
       "      <td>False</td>\n",
       "    </tr>\n",
       "    <tr>\n",
       "      <th>2023-05-11 00:00:00+07:00</th>\n",
       "      <td>True</td>\n",
       "      <td>True</td>\n",
       "    </tr>\n",
       "    <tr>\n",
       "      <th>2023-05-12 00:00:00+07:00</th>\n",
       "      <td>False</td>\n",
       "      <td>False</td>\n",
       "    </tr>\n",
       "    <tr>\n",
       "      <th>2023-05-15 00:00:00+07:00</th>\n",
       "      <td>False</td>\n",
       "      <td>False</td>\n",
       "    </tr>\n",
       "    <tr>\n",
       "      <th>2023-05-16 00:00:00+07:00</th>\n",
       "      <td>True</td>\n",
       "      <td>True</td>\n",
       "    </tr>\n",
       "  </tbody>\n",
       "</table>\n",
       "<p>241 rows × 2 columns</p>\n",
       "</div>"
      ],
      "text/plain": [
       "                           next_up  next_up\n",
       "Date                                       \n",
       "2022-05-27 00:00:00+07:00    False    False\n",
       "2022-05-30 00:00:00+07:00    False    False\n",
       "2022-05-31 00:00:00+07:00     True     True\n",
       "2022-06-02 00:00:00+07:00     True     True\n",
       "2022-06-03 00:00:00+07:00    False    False\n",
       "...                            ...      ...\n",
       "2023-05-10 00:00:00+07:00    False    False\n",
       "2023-05-11 00:00:00+07:00     True     True\n",
       "2023-05-12 00:00:00+07:00    False    False\n",
       "2023-05-15 00:00:00+07:00    False    False\n",
       "2023-05-16 00:00:00+07:00     True     True\n",
       "\n",
       "[241 rows x 2 columns]"
      ]
     },
     "execution_count": 41,
     "metadata": {},
     "output_type": "execute_result"
    }
   ],
   "source": [
    "pd.concat([y_test,pd.DataFrame(y_test).set_index(y_test.index)], axis=1)"
   ]
  },
  {
   "cell_type": "markdown",
   "id": "1b098299-3da7-49ee-b070-70a99236ee52",
   "metadata": {},
   "source": [
    "# Summary"
   ]
  },
  {
   "cell_type": "code",
   "execution_count": 42,
   "id": "5edd90c7-38e6-4aff-b45e-0e569ca4bbce",
   "metadata": {},
   "outputs": [
    {
     "name": "stdout",
     "output_type": "stream",
     "text": [
      "Ticker: ISAT.JK\n",
      "Training data size:  967\n",
      "Test data size:  241\n",
      "Accuracy: 0.5477178423236515\n"
     ]
    }
   ],
   "source": [
    "print('Ticker:', ticker)\n",
    "print('Training data size: ', len(y_train))\n",
    "print('Test data size: ', len(y_test))\n",
    "print(\"Accuracy:\", accuracy)"
   ]
  },
  {
   "cell_type": "markdown",
   "id": "5d70c260-78e5-4064-918a-ba4d5acc29ec",
   "metadata": {},
   "source": [
    "# Additional"
   ]
  },
  {
   "cell_type": "code",
   "execution_count": 43,
   "id": "f1db3887-5df2-44bb-aa2d-c9cf4550099b",
   "metadata": {},
   "outputs": [],
   "source": [
    "# Initialize Bollinger Bands Indicator\n",
    "indicator_bb = ta.volatility.BollingerBands(close=df[\"Close\"], window=20, window_dev=2)\n",
    "\n",
    "# Add Bollinger Bands features\n",
    "df['bb_bbm'] = indicator_bb.bollinger_mavg()\n",
    "df['bb_bbh'] = indicator_bb.bollinger_hband()\n",
    "df['bb_bbl'] = indicator_bb.bollinger_lband()\n",
    "\n",
    "# Add Bollinger Band high indicator\n",
    "df['bb_bbhi'] = indicator_bb.bollinger_hband_indicator()\n",
    "\n",
    "# Add Bollinger Band low indicator\n",
    "df['bb_bbli'] = indicator_bb.bollinger_lband_indicator()"
   ]
  },
  {
   "cell_type": "code",
   "execution_count": 44,
   "id": "1c56dc9f-c9bb-4f94-8e1a-61a4ef19aac9",
   "metadata": {},
   "outputs": [
    {
     "data": {
      "image/png": "[encoded data removed]",
      "text/plain": [
       "<Figure size 640x480 with 1 Axes>"
      ]
     },
     "metadata": {},
     "output_type": "display_data"
    }
   ],
   "source": [
    "import matplotlib.pyplot as plt\n",
    "plt.plot(df['Close'], label='Close')\n",
    "plt.plot(df['bb_bbm'], label='bb_bbm')\n",
    "plt.plot(df['bb_bbh'], label='bb_bbh')\n",
    "plt.plot(df['bb_bbl'], label='bb_bbl')\n",
    "plt.legend()\n",
    "plt.show()"
   ]
  },
  {
   "cell_type": "code",
   "execution_count": 45,
   "id": "fa2e1fa9-5fa0-428c-b84a-f415bd6f3b02",
   "metadata": {},
   "outputs": [
    {
     "data": {
      "text/plain": [
       "Date\n",
       "2021-10-25 00:00:00+07:00   -126.003200\n",
       "2023-05-04 00:00:00+07:00    -19.300000\n",
       "2021-03-10 00:00:00+07:00    -15.440267\n",
       "2021-10-01 00:00:00+07:00    -14.734859\n",
       "2020-09-02 00:00:00+07:00     -9.478479\n",
       "                                ...    \n",
       "2022-06-14 00:00:00+07:00      9.686763\n",
       "2022-04-19 00:00:00+07:00     10.413776\n",
       "2019-05-03 00:00:00+07:00     16.656337\n",
       "2021-06-03 00:00:00+07:00     17.571628\n",
       "2020-11-04 00:00:00+07:00     33.802601\n",
       "Name: sma_cross_9_26, Length: 1208, dtype: float64"
      ]
     },
     "execution_count": 45,
     "metadata": {},
     "output_type": "execute_result"
    }
   ],
   "source": [
    "feature['sma_cross_9_26'].sort_values()"
   ]
  },
  {
   "cell_type": "code",
   "execution_count": 46,
   "id": "70eb5bee-86a6-4f7f-8be2-1409d7b810b5",
   "metadata": {},
   "outputs": [
    {
     "name": "stdout",
     "output_type": "stream",
     "text": [
      "6925.0\n",
      "6925.0\n",
      "0.0\n"
     ]
    }
   ],
   "source": [
    "print(sma_short.loc['2023-04-05'])\n",
    "print(sma_long.loc['2023-04-05'])\n",
    "print(sma_cross.loc['2023-04-05'])"
   ]
  },
  {
   "cell_type": "code",
   "execution_count": 47,
   "id": "90436ed3-991f-4eb0-8a59-b1a18dc14a1f",
   "metadata": {},
   "outputs": [
    {
     "name": "stdout",
     "output_type": "stream",
     "text": [
      "Date\n",
      "2023-04-03 00:00:00+07:00   -0.621749\n",
      "2023-04-04 00:00:00+07:00   -0.168750\n",
      "2023-04-05 00:00:00+07:00   -1.000000\n",
      "2023-04-06 00:00:00+07:00    0.000000\n",
      "2023-04-10 00:00:00+07:00    0.963636\n",
      "2023-04-11 00:00:00+07:00    0.331790\n",
      "2023-04-12 00:00:00+07:00    0.239861\n",
      "2023-04-13 00:00:00+07:00    0.263551\n",
      "2023-04-14 00:00:00+07:00    0.129438\n",
      "2023-04-17 00:00:00+07:00    0.048461\n",
      "2023-04-18 00:00:00+07:00    0.013741\n",
      "2023-04-26 00:00:00+07:00    0.055453\n",
      "2023-04-27 00:00:00+07:00   -0.072388\n",
      "2023-04-28 00:00:00+07:00   -0.262429\n",
      "Name: sma_cross_9_26, dtype: float64\n"
     ]
    }
   ],
   "source": [
    "print(feature.loc['2023-04']['sma_cross_9_26'])"
   ]
  }
 ],
 "metadata": {
  "kernelspec": {
   "display_name": "Python 3 (ipykernel)",
   "language": "python",
   "name": "python3"
  },
  "language_info": {
   "codemirror_mode": {
    "name": "ipython",
    "version": 3
   },
   "file_extension": ".py",
   "mimetype": "text/x-python",
   "name": "python",
   "nbconvert_exporter": "python",
   "pygments_lexer": "ipython3",
   "version": "3.10.6"
  },
  "toc-autonumbering": true
 },
 "nbformat": 4,
 "nbformat_minor": 5
}
